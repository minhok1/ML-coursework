{
  "nbformat": 4,
  "nbformat_minor": 0,
  "metadata": {
    "colab": {
      "name": "Lab_5_Spam_Detection.ipynb",
      "provenance": [],
      "collapsed_sections": []
    },
    "kernelspec": {
      "display_name": "Python 3",
      "language": "python",
      "name": "python3"
    },
    "language_info": {
      "codemirror_mode": {
        "name": "ipython",
        "version": 3
      },
      "file_extension": ".py",
      "mimetype": "text/x-python",
      "name": "python",
      "nbconvert_exporter": "python",
      "pygments_lexer": "ipython3",
      "version": "3.7.4"
    }
  },
  "cells": [
    {
      "cell_type": "markdown",
      "metadata": {
        "id": "_bphECiUa9zw"
      },
      "source": [
        "# Lab 5: Spam Detection\n",
        "\n",
        "**Deadline**: Thursday, July 9, 11:59pm\n",
        "\n",
        "**Late Penalty**: There is a penalty-free grace period of one hour past the deadline. Any work that is submitted between 1 hour and 24 hours past the deadline will receive a 20% grade deduction. No other late work is accepted. Quercus submission time will be used, not your local computer time. You can submit your labs as many times as you want before the deadline, so please submit often and early.\n",
        "\n",
        "**TA**: Baiwu (Chris) Zhang  \n",
        "\n",
        "In this assignment, we will build a recurrent neural network to classify a SMS text message\n",
        "as \"spam\" or \"not spam\". In the process, you will\n",
        "    \n",
        "1. Clean and process text data for machine learning.\n",
        "2. Understand and implement a character-level recurrent neural network.\n",
        "3. Use torchtext to build recurrent neural network models.\n",
        "4. Understand batching for a recurrent neural network, and use torchtext to implement RNN batching.\n",
        "\n",
        "### What to submit\n",
        "\n",
        "Submit a PDF file containing all your code, outputs, and write-up. You can produce a PDF of your Google Colab file by going to File > Print and then save as PDF. The Colab instructions have more information (.html files are also acceptable).\n",
        "\n",
        "Do not submit any other files produced by your code.\n",
        "\n",
        "Include a link to your colab file in your submission."
      ]
    },
    {
      "cell_type": "markdown",
      "metadata": {
        "id": "rWiUqJJTa9z6"
      },
      "source": [
        "## Colab Link\n",
        "\n",
        "Include a link to your Colab file here. If you would like the TA to look at your\n",
        "Colab file in case your solutions are cut off, **please make sure that your Colab\n",
        "file is publicly accessible at the time of submission**.\n",
        "\n",
        "Colab Link: https://colab.research.google.com/drive/1QwKab8weOwhI57vBJCka4FbSBdV4jcFS?usp=sharing"
      ]
    },
    {
      "cell_type": "code",
      "metadata": {
        "id": "HgfNOUaPa9z8"
      },
      "source": [
        "import torch\n",
        "import torch.nn as nn\n",
        "import torch.nn.functional as F\n",
        "import torch.optim as optim\n",
        "import numpy as np\n",
        "import matplotlib.pyplot as plt"
      ],
      "execution_count": null,
      "outputs": []
    },
    {
      "cell_type": "markdown",
      "metadata": {
        "id": "M0jLI9LBa90C"
      },
      "source": [
        "## Part 1. Data Cleaning [15 pt]\n",
        "\n",
        "We will be using the \"SMS Spam Collection Data Set\" available at http://archive.ics.uci.edu/ml/datasets/SMS+Spam+Collection\n",
        "\n",
        "There is a link to download the \"Data Folder\" at the very top of the webpage. Download the zip file, unzip it, and upload the file `SMSSpamCollection` to Colab.    "
      ]
    },
    {
      "cell_type": "markdown",
      "metadata": {
        "id": "sSuF7C_Ga90E"
      },
      "source": [
        "### Part (a) [2 pt]\n",
        "\n",
        "Open up the file in Python, and print out one example of a spam SMS, and one example of a non-spam SMS.\n",
        "\n",
        "What is the label value for a spam message, and what is the label value for a non-spam message?"
      ]
    },
    {
      "cell_type": "code",
      "metadata": {
        "id": "HMEi5GOjFQhW",
        "colab": {
          "base_uri": "https://localhost:8080/",
          "height": 121
        },
        "outputId": "1f620848-19e1-4445-c776-8016375a64e2"
      },
      "source": [
        "from google.colab import drive\n",
        "drive.mount('/content/drive')"
      ],
      "execution_count": null,
      "outputs": [
        {
          "output_type": "stream",
          "text": [
            "Go to this URL in a browser: https://accounts.google.com/o/oauth2/auth?client_id=947318989803-6bn6qk8qdgf4n4g3pfee6491hc0brc4i.apps.googleusercontent.com&redirect_uri=urn%3aietf%3awg%3aoauth%3a2.0%3aoob&response_type=code&scope=email%20https%3a%2f%2fwww.googleapis.com%2fauth%2fdocs.test%20https%3a%2f%2fwww.googleapis.com%2fauth%2fdrive%20https%3a%2f%2fwww.googleapis.com%2fauth%2fdrive.photos.readonly%20https%3a%2f%2fwww.googleapis.com%2fauth%2fpeopleapi.readonly\n",
            "\n",
            "Enter your authorization code:\n",
            "··········\n",
            "Mounted at /content/drive\n"
          ],
          "name": "stdout"
        }
      ]
    },
    {
      "cell_type": "code",
      "metadata": {
        "id": "I_IfXHeTa90F"
      },
      "source": [
        "spamcollection = open('/content/drive/My Drive/Colab Notebooks/SMSSpamCollection')"
      ],
      "execution_count": null,
      "outputs": []
    },
    {
      "cell_type": "code",
      "metadata": {
        "id": "xp-PNnF5LbLF",
        "colab": {
          "base_uri": "https://localhost:8080/",
          "height": 50
        },
        "outputId": "f0a497d3-1358-4e5c-8896-0c154e69f576"
      },
      "source": [
        "for line in spamcollection:\n",
        "  if line[0:3] == 'ham':\n",
        "    print(line)\n",
        "    break"
      ],
      "execution_count": null,
      "outputs": [
        {
          "output_type": "stream",
          "text": [
            "ham\tGo until jurong point, crazy.. Available only in bugis n great world la e buffet... Cine there got amore wat...\n",
            "\n"
          ],
          "name": "stdout"
        }
      ]
    },
    {
      "cell_type": "code",
      "metadata": {
        "id": "4JgNOiY5NZ-S",
        "colab": {
          "base_uri": "https://localhost:8080/",
          "height": 50
        },
        "outputId": "50ff875b-cf08-4d04-b14c-c4ce4b078f49"
      },
      "source": [
        "for line in spamcollection:\n",
        "  if line[0:3] == 'spa':\n",
        "    print(line)\n",
        "    break"
      ],
      "execution_count": null,
      "outputs": [
        {
          "output_type": "stream",
          "text": [
            "spam\tFree entry in 2 a wkly comp to win FA Cup final tkts 21st May 2005. Text FA to 87121 to receive entry question(std txt rate)T&C's apply 08452810075over18's\n",
            "\n"
          ],
          "name": "stdout"
        }
      ]
    },
    {
      "cell_type": "markdown",
      "metadata": {
        "id": "xk4ym3DTNf1V"
      },
      "source": [
        "They're called spam or ham"
      ]
    },
    {
      "cell_type": "markdown",
      "metadata": {
        "id": "AukA6vMVa90d"
      },
      "source": [
        "### Part (b) [1 pt]\n",
        "\n",
        "How many spam messages are there in the data set?\n",
        "How many non-spam messages are there in the data set?\n"
      ]
    },
    {
      "cell_type": "code",
      "metadata": {
        "id": "LgsqyemVa90e"
      },
      "source": [
        "hamcount = 0\n",
        "spamcount = 0\n",
        "for line in spamcollection:\n",
        "  if line[0:3] == 'ham':\n",
        "    hamcount += 1\n",
        "  if line[0:3] == 'spa':\n",
        "    spamcount += 1"
      ],
      "execution_count": null,
      "outputs": []
    },
    {
      "cell_type": "code",
      "metadata": {
        "id": "sWSAwzDfOoNU",
        "colab": {
          "base_uri": "https://localhost:8080/",
          "height": 50
        },
        "outputId": "188a9af4-d68a-4d30-cc8f-6be8c8ebe321"
      },
      "source": [
        "print(hamcount)\n",
        "print(spamcount)"
      ],
      "execution_count": null,
      "outputs": [
        {
          "output_type": "stream",
          "text": [
            "4827\n",
            "747\n"
          ],
          "name": "stdout"
        }
      ]
    },
    {
      "cell_type": "markdown",
      "metadata": {
        "id": "d1WXxVt6a90h"
      },
      "source": [
        "### Part (c) [4 pt]\n",
        "\n",
        "We will be using the package `torchtext` to load, process, and batch the data.\n",
        "A tutorial to torchtext is available below. This tutorial uses the same\n",
        "Sentiment140 data set that we explored during lecture.\n",
        "\n",
        "https://medium.com/@sonicboom8/sentiment-analysis-torchtext-55fb57b1fab8\n",
        "\n",
        "Unlike what we did during lecture, we will be building a **character level RNN**.\n",
        "That is, we will treat each **character** as a token in our sequence,\n",
        "rather than each **word**.\n",
        "\n",
        "Identify two advantage and two disadvantage of modelling SMS text\n",
        "messages as a sequence of characters rather than a sequence of words."
      ]
    },
    {
      "cell_type": "markdown",
      "metadata": {
        "id": "ySRMjNbOMw3o"
      },
      "source": [
        "The first advantage would be that the embedding space would be much smaller. There are countless many words as opposed to just 26 letters in English. Another advantage is that a model based on a sequence of characters has better precision in the scope of each word - it can predict rarely used words (or even punctuations).\n",
        "\n",
        "However, in the scope of the entire text, character-based would have a much higher computational cost than word-based. Sequence of words would also be much better to capture long-distance dependencies in the text."
      ]
    },
    {
      "cell_type": "markdown",
      "metadata": {
        "id": "ie_D0bv9a90k"
      },
      "source": [
        "### Part (d) [1 pt]\n",
        "\n",
        "We will be loading our data set using `torchtext.data.TabularDataset`. The\n",
        "constructor will read directly from the `SMSSpamCollection` file. \n",
        "\n",
        "For the data file to be read successfuly, we\n",
        "need to specify the **fields** (columns) in the file. \n",
        "In our case, the dataset has two fields: \n",
        "\n",
        "- a text field containing the sms messages,\n",
        "- a label field which will be converted into a binary label.\n",
        "\n",
        "Split the dataset into `train`, `valid`, and `test`. Use a 60-20-20 split.\n",
        "You may find this torchtext API page helpful:\n",
        "https://torchtext.readthedocs.io/en/latest/data.html#dataset\n",
        "\n",
        "Hint: There is a `Dataset` method that can perform the random split for you."
      ]
    },
    {
      "cell_type": "code",
      "metadata": {
        "id": "P_Y6Puz9a90l",
        "colab": {
          "base_uri": "https://localhost:8080/",
          "height": 370
        },
        "outputId": "c17c6a4e-d134-41a4-9e4e-16262e5f7e4b"
      },
      "source": [
        "import torchtext\n",
        "\n",
        "text_field = torchtext.data.Field(sequential=True,      # text sequence\n",
        "                                  tokenize=lambda x: x, # because are building a character-RNN\n",
        "                                  include_lengths=True, # to track the length of sequences, for batching\n",
        "                                  batch_first=True,\n",
        "                                  use_vocab=True)       # to turn each character into an integer index\n",
        "label_field = torchtext.data.Field(sequential=False,    # not a sequence\n",
        "                                   use_vocab=False,     # don't need to track vocabulary\n",
        "                                   is_target=True,      \n",
        "                                   batch_first=True,\n",
        "                                   preprocessing=lambda x: int(x == 'spam')) # convert text to 0 and 1\n",
        "\n",
        "fields = [('label', label_field), ('sms', text_field)]\n",
        "dataset = torchtext.data.TabularDataset(\"/content/drive/My Drive/Colab Notebooks/SMSSpamCollection\", # name of the file\n",
        "                                        \"tsv\",               # fields are separated by a tab\n",
        "                                        fields)\n",
        "\n",
        "\n",
        "train, valid, test = dataset.split(split_ratio=[0.6, 0.2, 0.2])"
      ],
      "execution_count": null,
      "outputs": [
        {
          "output_type": "error",
          "ename": "OSError",
          "evalue": "ignored",
          "traceback": [
            "\u001b[0;31m---------------------------------------------------------------------------\u001b[0m",
            "\u001b[0;31mOSError\u001b[0m                                   Traceback (most recent call last)",
            "\u001b[0;32m<ipython-input-3-34b7659aa182>\u001b[0m in \u001b[0;36m<module>\u001b[0;34m()\u001b[0m\n\u001b[1;32m     15\u001b[0m dataset = torchtext.data.TabularDataset(\"/content/drive/My Drive/Colab Notebooks/SMSSpamCollection\", # name of the file\n\u001b[1;32m     16\u001b[0m                                         \u001b[0;34m\"tsv\"\u001b[0m\u001b[0;34m,\u001b[0m               \u001b[0;31m# fields are separated by a tab\u001b[0m\u001b[0;34m\u001b[0m\u001b[0;34m\u001b[0m\u001b[0m\n\u001b[0;32m---> 17\u001b[0;31m                                         fields)\n\u001b[0m\u001b[1;32m     18\u001b[0m \u001b[0;34m\u001b[0m\u001b[0m\n\u001b[1;32m     19\u001b[0m \u001b[0;34m\u001b[0m\u001b[0m\n",
            "\u001b[0;32m/usr/local/lib/python3.6/dist-packages/torchtext/data/dataset.py\u001b[0m in \u001b[0;36m__init__\u001b[0;34m(self, path, format, fields, skip_header, csv_reader_params, **kwargs)\u001b[0m\n\u001b[1;32m    269\u001b[0m                 \u001b[0mnext\u001b[0m\u001b[0;34m(\u001b[0m\u001b[0mreader\u001b[0m\u001b[0;34m)\u001b[0m\u001b[0;34m\u001b[0m\u001b[0;34m\u001b[0m\u001b[0m\n\u001b[1;32m    270\u001b[0m \u001b[0;34m\u001b[0m\u001b[0m\n\u001b[0;32m--> 271\u001b[0;31m             \u001b[0mexamples\u001b[0m \u001b[0;34m=\u001b[0m \u001b[0;34m[\u001b[0m\u001b[0mmake_example\u001b[0m\u001b[0;34m(\u001b[0m\u001b[0mline\u001b[0m\u001b[0;34m,\u001b[0m \u001b[0mfields\u001b[0m\u001b[0;34m)\u001b[0m \u001b[0;32mfor\u001b[0m \u001b[0mline\u001b[0m \u001b[0;32min\u001b[0m \u001b[0mreader\u001b[0m\u001b[0;34m]\u001b[0m\u001b[0;34m\u001b[0m\u001b[0;34m\u001b[0m\u001b[0m\n\u001b[0m\u001b[1;32m    272\u001b[0m \u001b[0;34m\u001b[0m\u001b[0m\n\u001b[1;32m    273\u001b[0m         \u001b[0;32mif\u001b[0m \u001b[0misinstance\u001b[0m\u001b[0;34m(\u001b[0m\u001b[0mfields\u001b[0m\u001b[0;34m,\u001b[0m \u001b[0mdict\u001b[0m\u001b[0;34m)\u001b[0m\u001b[0;34m:\u001b[0m\u001b[0;34m\u001b[0m\u001b[0;34m\u001b[0m\u001b[0m\n",
            "\u001b[0;32m/usr/local/lib/python3.6/dist-packages/torchtext/data/dataset.py\u001b[0m in \u001b[0;36m<listcomp>\u001b[0;34m(.0)\u001b[0m\n\u001b[1;32m    269\u001b[0m                 \u001b[0mnext\u001b[0m\u001b[0;34m(\u001b[0m\u001b[0mreader\u001b[0m\u001b[0;34m)\u001b[0m\u001b[0;34m\u001b[0m\u001b[0;34m\u001b[0m\u001b[0m\n\u001b[1;32m    270\u001b[0m \u001b[0;34m\u001b[0m\u001b[0m\n\u001b[0;32m--> 271\u001b[0;31m             \u001b[0mexamples\u001b[0m \u001b[0;34m=\u001b[0m \u001b[0;34m[\u001b[0m\u001b[0mmake_example\u001b[0m\u001b[0;34m(\u001b[0m\u001b[0mline\u001b[0m\u001b[0;34m,\u001b[0m \u001b[0mfields\u001b[0m\u001b[0;34m)\u001b[0m \u001b[0;32mfor\u001b[0m \u001b[0mline\u001b[0m \u001b[0;32min\u001b[0m \u001b[0mreader\u001b[0m\u001b[0;34m]\u001b[0m\u001b[0;34m\u001b[0m\u001b[0;34m\u001b[0m\u001b[0m\n\u001b[0m\u001b[1;32m    272\u001b[0m \u001b[0;34m\u001b[0m\u001b[0m\n\u001b[1;32m    273\u001b[0m         \u001b[0;32mif\u001b[0m \u001b[0misinstance\u001b[0m\u001b[0;34m(\u001b[0m\u001b[0mfields\u001b[0m\u001b[0;34m,\u001b[0m \u001b[0mdict\u001b[0m\u001b[0;34m)\u001b[0m\u001b[0;34m:\u001b[0m\u001b[0;34m\u001b[0m\u001b[0;34m\u001b[0m\u001b[0m\n",
            "\u001b[0;32m/usr/local/lib/python3.6/dist-packages/torchtext/utils.py\u001b[0m in \u001b[0;36municode_csv_reader\u001b[0;34m(unicode_csv_data, **kwargs)\u001b[0m\n\u001b[1;32m     69\u001b[0m             \u001b[0;32myield\u001b[0m \u001b[0;34m[\u001b[0m\u001b[0mcell\u001b[0m\u001b[0;34m.\u001b[0m\u001b[0mdecode\u001b[0m\u001b[0;34m(\u001b[0m\u001b[0;34m'utf-8'\u001b[0m\u001b[0;34m)\u001b[0m \u001b[0;32mfor\u001b[0m \u001b[0mcell\u001b[0m \u001b[0;32min\u001b[0m \u001b[0mrow\u001b[0m\u001b[0;34m]\u001b[0m\u001b[0;34m\u001b[0m\u001b[0;34m\u001b[0m\u001b[0m\n\u001b[1;32m     70\u001b[0m     \u001b[0;32melse\u001b[0m\u001b[0;34m:\u001b[0m\u001b[0;34m\u001b[0m\u001b[0;34m\u001b[0m\u001b[0m\n\u001b[0;32m---> 71\u001b[0;31m         \u001b[0;32mfor\u001b[0m \u001b[0mline\u001b[0m \u001b[0;32min\u001b[0m \u001b[0mcsv\u001b[0m\u001b[0;34m.\u001b[0m\u001b[0mreader\u001b[0m\u001b[0;34m(\u001b[0m\u001b[0municode_csv_data\u001b[0m\u001b[0;34m,\u001b[0m \u001b[0;34m**\u001b[0m\u001b[0mkwargs\u001b[0m\u001b[0;34m)\u001b[0m\u001b[0;34m:\u001b[0m\u001b[0;34m\u001b[0m\u001b[0;34m\u001b[0m\u001b[0m\n\u001b[0m\u001b[1;32m     72\u001b[0m             \u001b[0;32myield\u001b[0m \u001b[0mline\u001b[0m\u001b[0;34m\u001b[0m\u001b[0;34m\u001b[0m\u001b[0m\n\u001b[1;32m     73\u001b[0m \u001b[0;34m\u001b[0m\u001b[0m\n",
            "\u001b[0;31mOSError\u001b[0m: [Errno 5] Input/output error"
          ]
        }
      ]
    },
    {
      "cell_type": "markdown",
      "metadata": {
        "id": "v6nP0Ks_a90o"
      },
      "source": [
        "### Part (e) [2 pt]\n",
        "\n",
        "You saw in part (b) that there are many more non-spam messages than spam messages.\n",
        "This **imbalance** in our training data will be problematic for training.\n",
        "We can fix this disparity by duplicating spam messages in the training set,\n",
        "so that the training set is roughly **balanced**.\n",
        "\n",
        "Explain why having a balanced training set is helpful for training our neural network.\n",
        "\n",
        "Note: if you are not sure, try removing the below code and train your mode."
      ]
    },
    {
      "cell_type": "code",
      "metadata": {
        "id": "FWvx9_rka90p"
      },
      "source": [
        "# save the original training examples\n",
        "old_train_examples = train.examples\n",
        "# get all the spam messages in `train`\n",
        "train_spam = []\n",
        "for item in train.examples:\n",
        "    if item.label == 1:\n",
        "        train_spam.append(item)\n",
        "# duplicate each spam message 6 more times\n",
        "train.examples = old_train_examples + train_spam * 6"
      ],
      "execution_count": null,
      "outputs": []
    },
    {
      "cell_type": "markdown",
      "metadata": {
        "id": "p__WODyougt9"
      },
      "source": [
        "If the model can generalise with very high accuracy, imbalance in training set may not have that much effect. But if not, there could be much more misclassifications for classes that have fewer data. This can cause problems when we interpret the result."
      ]
    },
    {
      "cell_type": "markdown",
      "metadata": {
        "id": "j7eUmBEva90r"
      },
      "source": [
        "### Part (f) [1 pt]\n",
        "\n",
        "We need to build the vocabulary on the training data by running the below code.\n",
        "This finds all the possible character tokens in the training set.\n",
        "\n",
        "Explain what the variables `text_field.vocab.stoi` and `text_field.vocab.itos` represent."
      ]
    },
    {
      "cell_type": "code",
      "metadata": {
        "id": "8CQM8flKa90s"
      },
      "source": [
        "text_field.build_vocab(train)"
      ],
      "execution_count": null,
      "outputs": []
    },
    {
      "cell_type": "markdown",
      "metadata": {
        "id": "Yj3w7S4qw7H4"
      },
      "source": [
        "stoi returns the unique numerical identifiers of all possible characters and itos returns the list of them indexed by the identifiers. "
      ]
    },
    {
      "cell_type": "code",
      "metadata": {
        "id": "Ol23XJw0wlQr",
        "colab": {
          "base_uri": "https://localhost:8080/",
          "height": 1000
        },
        "outputId": "6e7a6058-0236-4717-c39c-04e7173353e2"
      },
      "source": [
        "text_field.vocab.stoi\n",
        "#text_field.vocab.itos"
      ],
      "execution_count": null,
      "outputs": [
        {
          "output_type": "execute_result",
          "data": {
            "text/plain": [
              "defaultdict(<function torchtext.vocab._default_unk_index>,\n",
              "            {'\\t': 102,\n",
              "             '\\n': 103,\n",
              "             ' ': 2,\n",
              "             '!': 44,\n",
              "             '\"': 79,\n",
              "             '#': 80,\n",
              "             '$': 87,\n",
              "             '%': 96,\n",
              "             '&': 64,\n",
              "             \"'\": 61,\n",
              "             '(': 76,\n",
              "             ')': 71,\n",
              "             '*': 72,\n",
              "             '+': 74,\n",
              "             ',': 46,\n",
              "             '-': 63,\n",
              "             '.': 16,\n",
              "             '/': 59,\n",
              "             '0': 14,\n",
              "             '1': 23,\n",
              "             '2': 26,\n",
              "             '3': 41,\n",
              "             '4': 37,\n",
              "             '5': 32,\n",
              "             '6': 42,\n",
              "             '7': 38,\n",
              "             '8': 28,\n",
              "             '9': 47,\n",
              "             ':': 66,\n",
              "             ';': 75,\n",
              "             '<': 92,\n",
              "             '<pad>': 1,\n",
              "             '<unk>': 0,\n",
              "             '=': 82,\n",
              "             '>': 81,\n",
              "             '?': 60,\n",
              "             '@': 83,\n",
              "             'A': 39,\n",
              "             'B': 55,\n",
              "             'C': 34,\n",
              "             'D': 54,\n",
              "             'E': 31,\n",
              "             'F': 58,\n",
              "             'G': 57,\n",
              "             'H': 53,\n",
              "             'I': 35,\n",
              "             'J': 73,\n",
              "             'K': 69,\n",
              "             'L': 52,\n",
              "             'M': 49,\n",
              "             'N': 40,\n",
              "             'O': 36,\n",
              "             'P': 50,\n",
              "             'Q': 78,\n",
              "             'R': 45,\n",
              "             'S': 33,\n",
              "             'T': 27,\n",
              "             'U': 48,\n",
              "             'V': 68,\n",
              "             'W': 51,\n",
              "             'X': 65,\n",
              "             'Y': 56,\n",
              "             'Z': 84,\n",
              "             '[': 90,\n",
              "             '\\\\': 101,\n",
              "             ']': 91,\n",
              "             '^': 108,\n",
              "             '_': 93,\n",
              "             'a': 6,\n",
              "             'b': 25,\n",
              "             'c': 17,\n",
              "             'd': 15,\n",
              "             'e': 3,\n",
              "             'f': 24,\n",
              "             'g': 22,\n",
              "             'h': 13,\n",
              "             'i': 9,\n",
              "             'j': 70,\n",
              "             'k': 29,\n",
              "             'l': 11,\n",
              "             'm': 18,\n",
              "             'n': 7,\n",
              "             'o': 4,\n",
              "             'p': 21,\n",
              "             'q': 77,\n",
              "             'r': 8,\n",
              "             's': 10,\n",
              "             't': 5,\n",
              "             'u': 12,\n",
              "             'v': 30,\n",
              "             'w': 20,\n",
              "             'x': 43,\n",
              "             'y': 19,\n",
              "             'z': 67,\n",
              "             '|': 88,\n",
              "             '~': 104,\n",
              "             '\\x91': 109,\n",
              "             '\\x92': 89,\n",
              "             '\\x93': 94,\n",
              "             '\\x94': 100,\n",
              "             '\\x96': 105,\n",
              "             '£': 62,\n",
              "             'Ü': 86,\n",
              "             'ì': 110,\n",
              "             'ú': 98,\n",
              "             'ü': 85,\n",
              "             '–': 106,\n",
              "             '—': 111,\n",
              "             '‘': 95,\n",
              "             '’': 107,\n",
              "             '“': 99,\n",
              "             '…': 97})"
            ]
          },
          "metadata": {
            "tags": []
          },
          "execution_count": 10
        }
      ]
    },
    {
      "cell_type": "markdown",
      "metadata": {
        "id": "TC8WVE8Ua90u"
      },
      "source": [
        "### Part (g) [2 pt]\n",
        "\n",
        "The tokens `<unk>` and `<pad>` were not in our SMS text messages.\n",
        "What do these two values represent?"
      ]
    },
    {
      "cell_type": "markdown",
      "metadata": {
        "id": "SfTiqQe_DSme"
      },
      "source": [
        "unk refers to the out-of-vocabulary words and pad refers to the padding used for the input sequence."
      ]
    },
    {
      "cell_type": "markdown",
      "metadata": {
        "id": "Ff5CNk7Qa90y"
      },
      "source": [
        "### Part (h) [2 pt]\n",
        "\n",
        "Since text sequences are of variable length, `torchtext` provides a `BucketIterator` data loader,\n",
        "which batches similar length sequences together. The iterator also provides functionalities to\n",
        "pad sequences automatically.\n",
        "\n",
        "Take a look at 10 batches in `train_iter`. What is the maximum length of the\n",
        "input sequence in each batch? How many `<pad>` tokens are used in each of the 10\n",
        "batches?"
      ]
    },
    {
      "cell_type": "code",
      "metadata": {
        "id": "V8N8qLWOa90y"
      },
      "source": [
        "train_iter = torchtext.data.BucketIterator(train,\n",
        "                                           batch_size=32,\n",
        "                                           sort_key=lambda x: len(x.sms), # to minimize padding\n",
        "                                           sort_within_batch=True,        # sort within each batch\n",
        "                                           repeat=False)                  # repeat the iterator for many epochs"
      ],
      "execution_count": null,
      "outputs": []
    },
    {
      "cell_type": "code",
      "metadata": {
        "id": "Qwz-rOaha902",
        "colab": {
          "base_uri": "https://localhost:8080/",
          "height": 470
        },
        "outputId": "949a1f3f-44b3-4334-9299-35c021a4da9f"
      },
      "source": [
        "count = 0\n",
        "for batch in train_iter:\n",
        "    print(\"Batch {0}\".format(str(count + 1)))\n",
        "    maxim = torch.max(batch.sms[1]).item()\n",
        "    print(maxim) #maximum length of input sequence for each batch\n",
        "    pad_count = 0\n",
        "    for i in batch.sms[1]:\n",
        "        pad_count += maxim - i.item()\n",
        "    print(pad_count) #padding count\n",
        "    count += 1\n",
        "    if count== 9:\n",
        "        break"
      ],
      "execution_count": null,
      "outputs": [
        {
          "output_type": "stream",
          "text": [
            "Batch 1\n",
            "32\n",
            "5\n",
            "Batch 2\n",
            "148\n",
            "33\n",
            "Batch 3\n",
            "24\n",
            "35\n",
            "Batch 4\n",
            "39\n",
            "17\n",
            "Batch 5\n",
            "22\n",
            "8\n",
            "Batch 6\n",
            "92\n",
            "71\n",
            "Batch 7\n",
            "145\n",
            "30\n",
            "Batch 8\n",
            "148\n",
            "0\n",
            "Batch 9\n",
            "158\n",
            "0\n"
          ],
          "name": "stdout"
        }
      ]
    },
    {
      "cell_type": "markdown",
      "metadata": {
        "id": "y7HnqP6_a904"
      },
      "source": [
        "## Part 2. Model Building [8 pt]\n",
        "\n",
        "Build a recurrent neural network model, using an architecture of your choosing. \n",
        "Use the one-hot embedding of each character as input to your recurrent network.\n",
        "Use one or more fully-connected layers to make the prediction based on your\n",
        "recurrent network output.\n",
        "\n",
        "Instead of using the RNN output value for the final token, another often used\n",
        "strategy is to max-pool over the entire output array. That is, instead of calling\n",
        "something like:\n",
        "\n",
        "```\n",
        "out, _ = self.rnn(x)\n",
        "self.fc(out[:, -1, :])\n",
        "```\n",
        "\n",
        "where `self.rnn` is an `nn.RNN`, `nn.GRU`, or `nn.LSTM` module, and `self.fc` is a \n",
        "fully-connected \n",
        "layer, we use:\n",
        "\n",
        "```\n",
        "out, _ = self.rnn(x)\n",
        "self.fc(torch.max(out, dim=1)[0])\n",
        "```\n",
        "\n",
        "This works reasonably in practice. An even better alternative is to concatenate the\n",
        "max-pooling and average-pooling of the RNN outputs:\n",
        "\n",
        "```\n",
        "out, _ = self.rnn(x)\n",
        "out = torch.cat([torch.max(out, dim=1)[0], \n",
        "                 torch.mean(out, dim=1)], dim=1)\n",
        "self.fc(out)\n",
        "```\n",
        "\n",
        "We encourage you to try out all these options. The way you pool the RNN outputs\n",
        "is one of the \"hyperparameters\" that you can choose to tune later on."
      ]
    },
    {
      "cell_type": "code",
      "metadata": {
        "id": "jHl1p_Wwa905",
        "colab": {
          "base_uri": "https://localhost:8080/",
          "height": 134
        },
        "outputId": "3fff3353-e7a9-4322-ae50-d00ff8480522"
      },
      "source": [
        "# You might find this code helpful for obtaining\n",
        "# PyTorch one-hot vectors.\n",
        "\n",
        "ident = torch.eye(10)\n",
        "print(ident[0]) # one-hot vector\n",
        "print(ident[1]) # one-hot vector\n",
        "x = torch.tensor([[1, 2], [3, 4]])\n",
        "print(ident[x]) # one-hot vectors"
      ],
      "execution_count": null,
      "outputs": [
        {
          "output_type": "stream",
          "text": [
            "tensor([1., 0., 0., 0., 0., 0., 0., 0., 0., 0.])\n",
            "tensor([0., 1., 0., 0., 0., 0., 0., 0., 0., 0.])\n",
            "tensor([[[0., 1., 0., 0., 0., 0., 0., 0., 0., 0.],\n",
            "         [0., 0., 1., 0., 0., 0., 0., 0., 0., 0.]],\n",
            "\n",
            "        [[0., 0., 0., 1., 0., 0., 0., 0., 0., 0.],\n",
            "         [0., 0., 0., 0., 1., 0., 0., 0., 0., 0.]]])\n"
          ],
          "name": "stdout"
        }
      ]
    },
    {
      "cell_type": "code",
      "metadata": {
        "id": "4LTQ7zFka909"
      },
      "source": [
        "class SpamRNN(nn.Module):\n",
        "    def __init__(self, input_size, hidden_size, num_classes):\n",
        "        super(SpamRNN, self).__init__()\n",
        "        self.ident = torch.eye(input_size)\n",
        "        self.hidden_size = hidden_size\n",
        "        self.rnn = nn.RNN(input_size, hidden_size, batch_first=True)\n",
        "        self.fc = nn.Linear(hidden_size, num_classes)\n",
        "    \n",
        "    def forward(self, x):\n",
        "        # Look up the embedding\n",
        "        x = self.ident[x]\n",
        "        # Set an initial hidden state\n",
        "        h0 = torch.zeros(1, x.size(0), self.hidden_size)\n",
        "        # Forward propagate the RNN\n",
        "        out, _ = self.rnn(x, h0)\n",
        "        # Pass the output of the last time step to the classifier\n",
        "        out = self.fc(torch.max(out, dim=1)[0])\n",
        "        return out"
      ],
      "execution_count": null,
      "outputs": []
    },
    {
      "cell_type": "markdown",
      "metadata": {
        "id": "vKIYPl_Ba90_"
      },
      "source": [
        "## Part 3. Training [16 pt]\n",
        "\n",
        "### Part (a) [4 pt]\n",
        "\n",
        "Complete the `get_accuracy` function, which will compute the\n",
        "accuracy (rate) of your model across a dataset (e.g. validation set).\n",
        "You may modify `torchtext.data.BucketIterator` to make your computation\n",
        "faster."
      ]
    },
    {
      "cell_type": "code",
      "metadata": {
        "id": "pvNfhGD6a91A"
      },
      "source": [
        "def get_accuracy(model, data):\n",
        "    \"\"\" Compute the accuracy of the `model` across a dataset `data`\n",
        "    \n",
        "    Example usage:\n",
        "    \n",
        "    >>> model = MyRNN() # to be defined\n",
        "    >>> get_accuracy(model, valid) # the variable `valid` is from above\n",
        "    \"\"\"\n",
        "    data_iter = torchtext.data.BucketIterator(data,\n",
        "                              batch_size=32,\n",
        "                              sort_key=lambda x: len(x.sms), # to minimize padding\n",
        "                              sort_within_batch=True, # sort within each batch\n",
        "                              repeat=False) # repeat the iterator for many epochs\n",
        "    correct, total = 0, 0\n",
        "    for batch in data_iter:\n",
        "        output = model(batch.sms[0])\n",
        "        pred = output.max(1, keepdim=True)[1]\n",
        "        correct += pred.eq(batch.label.view_as(pred)).sum().item()\n",
        "        total += batch.sms[1].shape[0]\n",
        "    return correct / total"
      ],
      "execution_count": null,
      "outputs": []
    },
    {
      "cell_type": "markdown",
      "metadata": {
        "id": "TlxlcAC1a91C"
      },
      "source": [
        "### Part (b) [4 pt]\n",
        "\n",
        "Train your model. Plot the training curve of your final model. \n",
        "Your training curve should have the training/validation loss and\n",
        "accuracy plotted periodically.\n",
        "\n",
        "Note: Not all of your batches will have the same batch size.\n",
        "In particular, if your training set does not divide evenly by\n",
        "your batch size, there will be a batch that is smaller than\n",
        "the rest. "
      ]
    },
    {
      "cell_type": "code",
      "metadata": {
        "id": "CVtf7CJCa91D",
        "colab": {
          "base_uri": "https://localhost:8080/",
          "height": 909
        },
        "outputId": "95a8e6e6-bb0e-45ed-b484-bc6029a6d54a"
      },
      "source": [
        "def get_model_name(name, learning_rate, epoch):\n",
        "  path = \"model_{0}_lr{1}_epoch{2}\".format(name, learning_rate, epoch)\n",
        "  return path\n",
        "\n",
        "def train_rnn_network(model, train, valid, batch_size=32, num_epochs=30, learning_rate=1e-5):\n",
        "  criterion = nn.CrossEntropyLoss()\n",
        "  optimizer = torch.optim.Adam(model.parameters(), lr=learning_rate)\n",
        "  losses, train_acc, valid_acc = [], [], []\n",
        "  epochs = []\n",
        "\n",
        "  train_loader = torchtext.data.BucketIterator(train,\n",
        "                          batch_size=batch_size,\n",
        "                          sort_key=lambda x: len(x.sms), # to minimize padding\n",
        "                          sort_within_batch=True, # sort within each batch\n",
        "                          repeat=False) # repeat the iterator for many epochs\n",
        "\n",
        "  valid_loader = torchtext.data.BucketIterator(valid,\n",
        "                          batch_size=batch_size,\n",
        "                          sort_key=lambda x: len(x.sms), # to minimize padding\n",
        "                          sort_within_batch=True, # sort within each batch\n",
        "                          repeat=False) # repeat the iterator for many epochs\n",
        "\n",
        "  for epoch in range(num_epochs):\n",
        "    for batch in train_loader:\n",
        "      optimizer.zero_grad()\n",
        "      pred = model(batch.sms[0])\n",
        "      loss = criterion(pred, batch.label)\n",
        "      loss.backward()\n",
        "      optimizer.step()\n",
        "    losses.append(float(loss))\n",
        "\n",
        "    epochs.append(epoch)\n",
        "    train_acc.append(get_accuracy(model, train))\n",
        "    valid_acc.append(get_accuracy(model, valid))\n",
        "    model_path = get_model_name(\"SpamRNN\", learning_rate, epoch)\n",
        "    torch.save(model.state_dict(), model_path)\n",
        "    print(\"epoch: \", epoch, end = \" \")\n",
        "    print(\"train acc: \", get_accuracy(model, train), end = \" \")\n",
        "    print(\"val acc: \", get_accuracy(model, valid))\n",
        "\n",
        "  # plotting\n",
        "  plt.title(\"Training Curve\")\n",
        "  plt.plot(losses, label=\"Train\")\n",
        "  plt.xlabel(\"Epoch\")\n",
        "  plt.ylabel(\"Loss\")\n",
        "  plt.show()\n",
        "\n",
        "  plt.title(\"Training Curve\")\n",
        "  plt.plot(epochs, train_acc, label=\"Train\")\n",
        "  plt.plot(epochs, valid_acc, label=\"Validation\")\n",
        "  plt.xlabel(\"Epoch\")\n",
        "  plt.ylabel(\"Accuracy\")\n",
        "  plt.legend(loc='best')\n",
        "  plt.show()\n",
        "\n",
        "\n",
        "model = SpamRNN(input_size=len(text_field.vocab), hidden_size=20, num_classes=2)\n",
        "train_rnn_network(model, train, valid, batch_size=32, num_epochs=20, learning_rate=5e-4)"
      ],
      "execution_count": null,
      "outputs": [
        {
          "output_type": "stream",
          "text": [
            "epoch:  0 train acc:  0.8755608734669459 val acc:  0.852914798206278\n",
            "epoch:  1 train acc:  0.8755608734669459 val acc:  0.852914798206278\n",
            "epoch:  2 train acc:  0.8755608734669459 val acc:  0.852914798206278\n",
            "epoch:  3 train acc:  0.9303021238408615 val acc:  0.9246636771300448\n",
            "epoch:  4 train acc:  0.9718815435237811 val acc:  0.9659192825112107\n",
            "epoch:  5 train acc:  0.9781633263535746 val acc:  0.9721973094170404\n",
            "epoch:  6 train acc:  0.9772659288064612 val acc:  0.9730941704035875\n",
            "epoch:  7 train acc:  0.9778641938378702 val acc:  0.9704035874439462\n",
            "epoch:  8 train acc:  0.9784624588692791 val acc:  0.9739910313901345\n",
            "epoch:  9 train acc:  0.979060723900688 val acc:  0.968609865470852\n",
            "epoch:  10 train acc:  0.9805563864792103 val acc:  0.9704035874439462\n",
            "epoch:  11 train acc:  0.9811546515106192 val acc:  0.9721973094170404\n",
            "epoch:  12 train acc:  0.9814537840263237 val acc:  0.9730941704035875\n",
            "epoch:  13 train acc:  0.9826503140891415 val acc:  0.9739910313901345\n",
            "epoch:  14 train acc:  0.9838468441519593 val acc:  0.9748878923766816\n",
            "epoch:  15 train acc:  0.9853425067304816 val acc:  0.9766816143497757\n",
            "epoch:  16 train acc:  0.9859407717618905 val acc:  0.9775784753363229\n",
            "epoch:  17 train acc:  0.9853425067304816 val acc:  0.9766816143497757\n",
            "epoch:  18 train acc:  0.9853425067304816 val acc:  0.97847533632287\n",
            "epoch:  19 train acc:  0.9877355668561173 val acc:  0.9802690582959641\n"
          ],
          "name": "stdout"
        },
        {
          "output_type": "display_data",
          "data": {
            "image/png": "[encoded data removed]",
            "text/plain": [
              "<Figure size 432x288 with 1 Axes>"
            ]
          },
          "metadata": {
            "tags": [],
            "needs_background": "light"
          }
        },
        {
          "output_type": "display_data",
          "data": {
            "image/png": "[encoded data removed]",
            "text/plain": [
              "<Figure size 432x288 with 1 Axes>"
            ]
          },
          "metadata": {
            "tags": [],
            "needs_background": "light"
          }
        }
      ]
    },
    {
      "cell_type": "markdown",
      "metadata": {
        "id": "fE3eRkDAa91F"
      },
      "source": [
        "### Part (c) [4 pt]\n",
        "\n",
        "Choose at least 4 hyperparameters to tune. Explain how you tuned the hyperparameters.\n",
        "You don't need to include your training curve for every model you trained.\n",
        "Instead, explain what hyperparemters you tuned, what the best validation accuracy was,\n",
        "and the reasoning behind the hyperparameter decisions you made.\n",
        "\n",
        "For this assignment, you should tune more than just your learning rate and epoch. \n",
        "Choose at least 2 hyperparameters that are unrelated to the optimizer."
      ]
    },
    {
      "cell_type": "markdown",
      "metadata": {
        "id": "tu-LJlB-iKMJ"
      },
      "source": [
        "First, I changed the number of epochs but that was rather irrelevant in this lab because the accuracy reached the plateau before epoch 20. So I kept the number of epochs at 20. Increasing the learning rate to 5e-4 increased the accuracies by ~5%. Changing the model architecture from max pooling to concatenation between max pooling and average pooling didn't have a significant impact on the result, so I ended up just max pooling. Increasing hidden_size from 20 to 30 also didn't influence the result that much either. The best validation accuracy I obtained was 98.0%."
      ]
    },
    {
      "cell_type": "markdown",
      "metadata": {
        "id": "v7DY56rKa91I"
      },
      "source": [
        "### Part (d) [2 pt]\n",
        "\n",
        "Before we deploy a machine learning model, we usually want to have a better understanding\n",
        "of how our model performs beyond its validation accuracy. An important metric to track is\n",
        "*how well our model performs in certain subsets of the data*.\n",
        "\n",
        "In particular, what is the model's error rate amongst data with negative labels?\n",
        "This is called the **false positive rate**.\n",
        "\n",
        "What about the model's error rate amongst data with positive labels?\n",
        "This is called the **false negative rate**.\n",
        "\n",
        "Report your final model's false positive and false negative rate across the\n",
        "validation set."
      ]
    },
    {
      "cell_type": "code",
      "metadata": {
        "id": "7ggbQSdba91J"
      },
      "source": [
        "# Create a Dataset of only spam validation examples\n",
        "valid_spam = torchtext.data.Dataset(\n",
        "    [e for e in valid.examples if e.label == 1],\n",
        "    valid.fields)\n",
        "# Create a Dataset of only non-spam validation examples\n",
        "valid_nospam = torchtext.data.Dataset(\n",
        "    [e for e in valid.examples if e.label == 0],\n",
        "    valid.fields)"
      ],
      "execution_count": null,
      "outputs": []
    },
    {
      "cell_type": "code",
      "metadata": {
        "id": "6smmyi1Ltsdn",
        "colab": {
          "base_uri": "https://localhost:8080/",
          "height": 50
        },
        "outputId": "03ff8854-6ec0-4e19-d4b4-ad16d2e244c6"
      },
      "source": [
        "model = SpamRNN(input_size=len(text_field.vocab), hidden_size=20, num_classes=2)\n",
        "state = torch.load(\"model_SpamRNN_lr0.0005_epoch19\")\n",
        "model.load_state_dict(state)\n",
        "print(\"False negative: \",(1-get_accuracy(model, valid_spam)))\n",
        "print(\"False positive: \",(1-get_accuracy(model, valid_nospam)))"
      ],
      "execution_count": null,
      "outputs": [
        {
          "output_type": "stream",
          "text": [
            "False negative:  0.04878048780487809\n",
            "False positive:  0.02208201892744477\n"
          ],
          "name": "stdout"
        }
      ]
    },
    {
      "cell_type": "markdown",
      "metadata": {
        "id": "N1iRteb3a91O"
      },
      "source": [
        "### Part (e) [2 pt]\n",
        "\n",
        "The impact of a false positive vs a false negative can be drastically different.\n",
        "If our spam detection algorithm was deployed on your phone, what is the impact\n",
        "of a false positive on the phone's user? What is the impact of a false negative?"
      ]
    },
    {
      "cell_type": "markdown",
      "metadata": {
        "id": "YwTtKhasx_UB"
      },
      "source": [
        "False negative would lead the user to think that a spam email is a normal one, and false positive would make him/her to think that a normal email is a spam."
      ]
    },
    {
      "cell_type": "markdown",
      "metadata": {
        "id": "Gznefulsa91V"
      },
      "source": [
        "## Part 4. Evaluation [11 pt]\n",
        "\n",
        "### Part (a) [1 pt]\n",
        "\n",
        "Report the final test accuracy of your model."
      ]
    },
    {
      "cell_type": "code",
      "metadata": {
        "id": "D5L5D-A1a91W",
        "colab": {
          "base_uri": "https://localhost:8080/",
          "height": 34
        },
        "outputId": "fdb63dea-a6e7-4e12-e6dc-3e96839b9374"
      },
      "source": [
        "model = SpamRNN(input_size=len(text_field.vocab), hidden_size=20, num_classes=2)\n",
        "state = torch.load(\"model_SpamRNN_lr0.0005_epoch19\")\n",
        "model.load_state_dict(state)\n",
        "get_accuracy(model, test)"
      ],
      "execution_count": null,
      "outputs": [
        {
          "output_type": "execute_result",
          "data": {
            "text/plain": [
              "0.9649910233393177"
            ]
          },
          "metadata": {
            "tags": []
          },
          "execution_count": 40
        }
      ]
    },
    {
      "cell_type": "markdown",
      "metadata": {
        "id": "6Hjmd8rca91Y"
      },
      "source": [
        "### Part (b) [3 pt]\n",
        "\n",
        "Report the false positive rate and false negative rate of your model across the test set."
      ]
    },
    {
      "cell_type": "code",
      "metadata": {
        "id": "GFiAKztJa91Z"
      },
      "source": [
        "test_spam = torchtext.data.Dataset(\n",
        "    [e for e in test.examples if e.label == 1],\n",
        "    test.fields)\n",
        "\n",
        "test_nospam = torchtext.data.Dataset(\n",
        "    [e for e in test.examples if e.label == 0],\n",
        "    test.fields)"
      ],
      "execution_count": null,
      "outputs": []
    },
    {
      "cell_type": "code",
      "metadata": {
        "id": "Bbo4e9Byyzx-",
        "colab": {
          "base_uri": "https://localhost:8080/",
          "height": 50
        },
        "outputId": "de5e80cd-e988-4ea6-c635-c49dfb0776ca"
      },
      "source": [
        "model = SpamRNN(input_size=len(text_field.vocab), hidden_size=20, num_classes=2)\n",
        "state = torch.load(\"model_SpamRNN_lr0.0005_epoch19\")\n",
        "model.load_state_dict(state)\n",
        "print(\"False negative: \",(1-get_accuracy(model, test_spam)))\n",
        "print(\"False positive: \",(1-get_accuracy(model, test_nospam)))"
      ],
      "execution_count": null,
      "outputs": [
        {
          "output_type": "stream",
          "text": [
            "False negative:  0.049645390070921946\n",
            "False positive:  0.03288797533401855\n"
          ],
          "name": "stdout"
        }
      ]
    },
    {
      "cell_type": "markdown",
      "metadata": {
        "id": "0jGHtQFpa91b"
      },
      "source": [
        "### Part (c) [3 pt]\n",
        "\n",
        "What is your model's prediction of the **probability** that\n",
        "the SMS message \"machine learning is sooo cool!\" is spam?\n",
        "\n",
        "Hint: To begin, use `text_field.vocab.stoi` to look up the index\n",
        "of each character in the vocabulary."
      ]
    },
    {
      "cell_type": "code",
      "metadata": {
        "id": "h_2nSJq8a91b"
      },
      "source": [
        "msg = \"machine learning is sooo cool!\"\n",
        "msg_array = []\n",
        "for i in msg:\n",
        "    msg_array.append(text_field.vocab.stoi[i])\n",
        "msg_tensor = torch.LongTensor([msg_array])"
      ],
      "execution_count": null,
      "outputs": []
    },
    {
      "cell_type": "code",
      "metadata": {
        "id": "Pp7HjyGBQu2G",
        "colab": {
          "base_uri": "https://localhost:8080/",
          "height": 34
        },
        "outputId": "d7a0b0ec-2b84-4d36-b0e2-614a3d26af39"
      },
      "source": [
        "model = SpamRNN(input_size=len(text_field.vocab), hidden_size=20, num_classes=2)\n",
        "state = torch.load(\"model_SpamRNN_lr0.0005_epoch19\")\n",
        "model.load_state_dict(state)"
      ],
      "execution_count": null,
      "outputs": [
        {
          "output_type": "execute_result",
          "data": {
            "text/plain": [
              "<All keys matched successfully>"
            ]
          },
          "metadata": {
            "tags": []
          },
          "execution_count": 21
        }
      ]
    },
    {
      "cell_type": "code",
      "metadata": {
        "id": "EHkc9pFTYLkw"
      },
      "source": [
        "res = model(msg_tensor)"
      ],
      "execution_count": null,
      "outputs": []
    },
    {
      "cell_type": "code",
      "metadata": {
        "id": "ch3GfJ3kdmwg",
        "colab": {
          "base_uri": "https://localhost:8080/",
          "height": 34
        },
        "outputId": "8d830b6c-0279-48ff-e14e-5b11a579e0bf"
      },
      "source": [
        "print(res.max(1, keepdim=True)[1])"
      ],
      "execution_count": null,
      "outputs": [
        {
          "output_type": "stream",
          "text": [
            "tensor([[0]])\n"
          ],
          "name": "stdout"
        }
      ]
    },
    {
      "cell_type": "markdown",
      "metadata": {
        "id": "X3yHO36fcZ5C"
      },
      "source": [
        "This is likely a non spam message"
      ]
    },
    {
      "cell_type": "markdown",
      "metadata": {
        "id": "QD1zgYJpa91f"
      },
      "source": [
        "### Part (d) [4 pt]\n",
        "\n",
        "Do you think detecting spam is an easy or difficult task?\n",
        "\n",
        "Since machine learning models are expensive to train and deploy, it is very\n",
        "important to compare our models against baseline models: a simple\n",
        "model that is easy to build and inexpensive to run that we can compare our\n",
        "recurrent neural network model against.\n",
        "\n",
        "Explain how you might build a simple baseline model. This baseline model\n",
        "can be a simple neural network (with very few weights), a hand-written algorithm,\n",
        "or any other strategy that is easy to build and test.\n",
        "\n",
        "**Do not actually build a baseline model. Instead, provide instructions on\n",
        "how to build it.**"
      ]
    },
    {
      "cell_type": "markdown",
      "metadata": {
        "id": "oKOGIJFiJokF"
      },
      "source": [
        "Detecting spam seems to be a difficult task. There are many cases where a spam sounds like a normal message, and vice versa. That's why we build a baseline model for comparison - for our purpose, a baseline model based on word count seems reasonable. It could be a very simple algorithm that counts how many times a certain word is used (that is often used in spam emails but not ham ones). This way, the baseline model would determine what resembles a spam just by certain features, and we would be able to tell if our model can classify based on more subtle differences that that."
      ]
    }
  ]
}