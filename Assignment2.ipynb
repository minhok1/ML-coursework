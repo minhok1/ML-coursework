{
  "nbformat": 4,
  "nbformat_minor": 0,
  "metadata": {
    "colab": {
      "name": "Assignment2.ipynb",
      "provenance": [],
      "collapsed_sections": []
    },
    "kernelspec": {
      "name": "python3",
      "display_name": "Python 3"
    }
  },
  "cells": [
    {
      "cell_type": "code",
      "metadata": {
        "id": "hETGFHbtmrsh"
      },
      "source": [
        "import numpy as np\n",
        "import matplotlib.pyplot as plt"
      ],
      "execution_count": null,
      "outputs": []
    },
    {
      "cell_type": "code",
      "metadata": {
        "id": "lL0R-mMzkVXa"
      },
      "source": [
        "def loadData():\n",
        "    with np.load(\"notMNIST.npz\") as data:\n",
        "        Data, Target = data [\"images\"], data[\"labels\"]\n",
        "        np.random.seed(521)\n",
        "        randIndx = np.arange(len(Data))\n",
        "        np.random.shuffle(randIndx)\n",
        "        Data = Data[randIndx]/255.\n",
        "        Target = Target[randIndx]\n",
        "        trainData, trainTarget = Data[:10000], Target[:10000]\n",
        "        validData, validTarget = Data[10000:16000], Target[10000:16000]\n",
        "        testData, testTarget = Data[16000:], Target[16000:]\n",
        "    return trainData, validData, testData, trainTarget, validTarget, testTarget"
      ],
      "execution_count": null,
      "outputs": []
    },
    {
      "cell_type": "code",
      "metadata": {
        "id": "nfT_5Ef0lA_4"
      },
      "source": [
        "def convertOneHot(trainTarget, validTarget, testTarget):\n",
        "    newtrain = np.zeros((trainTarget.shape[0], 10))\n",
        "    newvalid = np.zeros((validTarget.shape[0], 10))\n",
        "    newtest = np.zeros((testTarget.shape[0], 10))\n",
        "    for item in range(0, trainTarget.shape[0]):\n",
        "        newtrain[item][trainTarget[item]] = 1\n",
        "    for item in range(0, validTarget.shape[0]):\n",
        "        newvalid[item][validTarget[item]] = 1\n",
        "    for item in range(0, testTarget.shape[0]):\n",
        "        newtest[item][testTarget[item]] = 1\n",
        "    return newtrain, newvalid, newtest"
      ],
      "execution_count": null,
      "outputs": []
    },
    {
      "cell_type": "code",
      "metadata": {
        "id": "_NmRiGslleQ5"
      },
      "source": [
        "def shuffle(trainData, trainTarget):\n",
        "    np.random.seed(103)\n",
        "    randIndx = np.arange(len(trainData))\n",
        "    target = trainTarget\n",
        "    np.random.shuffle(randIndx)\n",
        "    data, target = trainData[randIndx], target[randIndx]\n",
        "    return data, target"
      ],
      "execution_count": null,
      "outputs": []
    },
    {
      "cell_type": "code",
      "metadata": {
        "id": "FTn2xQyUXV9D"
      },
      "source": [
        "def ReLU(x):\n",
        "    reluoutput = np.maximum(x, 0)\n",
        "    return reluoutput"
      ],
      "execution_count": null,
      "outputs": []
    },
    {
      "cell_type": "code",
      "metadata": {
        "id": "_LBakTBSXWuV"
      },
      "source": [
        "def softmax(x):\n",
        "    softmaxoutput = np.exp(x - np.max(x, keepdims=True)) / np.sum(np.exp(x - np.max(x, keepdims=True)), axis=0, keepdims=True)\n",
        "    return softmaxoutput"
      ],
      "execution_count": null,
      "outputs": []
    },
    {
      "cell_type": "code",
      "metadata": {
        "id": "PMPHyYhaPTvr"
      },
      "source": [
        "def compute(x, W, b):\n",
        "    W = np.transpose(W)\n",
        "    return np.transpose((np.transpose(np.matmul(W, x)) + b))"
      ],
      "execution_count": null,
      "outputs": []
    },
    {
      "cell_type": "code",
      "metadata": {
        "id": "T2bksmSxSEaa"
      },
      "source": [
        "def averageCE(target, pred):\n",
        "    CEoutput = -np.mean(np.sum((target * np.transpose(np.log(pred))), axis=1 ))\n",
        "    return CEoutput"
      ],
      "execution_count": null,
      "outputs": []
    },
    {
      "cell_type": "code",
      "metadata": {
        "id": "V_VkaYoV-YgV"
      },
      "source": [
        "def gradCE(target, o):\n",
        "    pred = softmax(o)\n",
        "    gradCEoutput = pred - np.transpose(target)\n",
        "    return gradCEoutput"
      ],
      "execution_count": null,
      "outputs": []
    },
    {
      "cell_type": "code",
      "metadata": {
        "id": "Mnf71s2CG7-P"
      },
      "source": [
        "def flatten(Data, N):\n",
        "    return np.reshape(Data, (784, N))"
      ],
      "execution_count": null,
      "outputs": []
    },
    {
      "cell_type": "code",
      "metadata": {
        "id": "esx2Ky6YHTCy"
      },
      "source": [
        "class NN():\n",
        "    def __init__(self, sizes, epochs=200, alpha=0.1):\n",
        "        self.sizes = sizes\n",
        "        self.epochs = epochs\n",
        "        self.alpha = alpha\n",
        "        self.input_parameters, self.hidden_parameters, self.output_parameters = self.initialization()\n",
        "\n",
        "    def initialization(self):\n",
        "        F = self.sizes[0]\n",
        "        H = self.sizes[1]\n",
        "        K = self.sizes[2]\n",
        "        input_parameters = {}\n",
        "        W_h = np.random.randn(F,H) * np.sqrt( 2.0 / (F + H) )\n",
        "        b_h = np.zeros(H)\n",
        "        hidden_parameters = {\n",
        "            'W_h': W_h,\n",
        "            'b_h': b_h\n",
        "        }\n",
        "        W_o = np.random.randn(H,K) * np.sqrt( 2.0 / (H + K) )\n",
        "        b_o = np.zeros(K)\n",
        "        output_parameters = {\n",
        "            'W_o': W_o,\n",
        "            'b_o': b_o\n",
        "        }\n",
        "        return input_parameters, hidden_parameters, output_parameters\n",
        "\n",
        "    def forwardPass(self, data):\n",
        "        input_parameters = self.input_parameters\n",
        "        hidden_parameters = self.hidden_parameters\n",
        "        output_parameters = self.output_parameters\n",
        "        \n",
        "        input_parameters['x'] = data\n",
        "        \n",
        "        hidden_parameters['s'] = compute(input_parameters['x'], hidden_parameters['W_h'], hidden_parameters['b_h'])\n",
        "        hidden_parameters['h'] = ReLU(hidden_parameters['s'])\n",
        "\n",
        "        output_parameters['o'] = compute(hidden_parameters['h'], output_parameters['W_o'], output_parameters['b_o'])\n",
        "        output_parameters['p'] = softmax(output_parameters['o'])\n",
        "        return output_parameters['p']\n",
        "\n",
        "    def backwardPass(self, target):\n",
        "        input_parameters = self.input_parameters\n",
        "        hidden_parameters = self.hidden_parameters\n",
        "        output_parameters = self.output_parameters\n",
        "\n",
        "        change_hidden_parameters = {}\n",
        "        change_output_parameters = {}\n",
        "        N = target.shape[0]\n",
        "        K = target.shape[1]\n",
        "\n",
        "        sensitivity_W_o = gradCE(target, output_parameters['o'])\n",
        "        change_output_parameters['W_o'] = np.matmul(hidden_parameters['h'], np.transpose(sensitivity_W_o)) / N\n",
        "        change_output_parameters['b_o'] = np.mean(sensitivity_W_o, axis=1)\n",
        "\n",
        "        hidden_parameters['s'] = np.where( hidden_parameters['s']<0, 0, hidden_parameters['s'] )\n",
        "        hidden_parameters['s'] = np.where( hidden_parameters['s']>0, 1, hidden_parameters['s'] )\n",
        "\n",
        "        sensitivity_W_h = np.matmul(output_parameters['W_o'], sensitivity_W_o) * hidden_parameters['s'] / K\n",
        "        change_hidden_parameters['W_h'] = np.matmul( input_parameters['x'], np.transpose(sensitivity_W_h) ) / N\n",
        "        change_hidden_parameters['b_h'] = np.mean( sensitivity_W_h, axis=1 )\n",
        "\n",
        "        return change_hidden_parameters, change_output_parameters\n",
        "\n",
        "    def loss_accuracy(self, data, labels):\n",
        "        output = self.forwardPass(data)\n",
        "        loss = averageCE(labels, output)\n",
        "        predict = np.argmax(output, axis=0)\n",
        "        target = np.argmax(labels, axis=1)\n",
        "        accuracy = np.mean(predict == target)\n",
        "\n",
        "        return loss, accuracy\n",
        "    \n",
        "    def train(self, trainData, newtrain, validData, newvalid, testData, newtest, gamma):\n",
        "\n",
        "        num_input = self.sizes[0] # number of input units\n",
        "        num_hidden = self.sizes[1] # number of hidden units\n",
        "        num_class = self.sizes[2] # number of classes\n",
        "\n",
        "        train_losses = np.zeros(self.epochs)\n",
        "        train_accuracies = np.zeros(self.epochs)\n",
        "        valid_losses = np.zeros(self.epochs)\n",
        "        valid_accuracies = np.zeros(self.epochs)\n",
        "\n",
        "        momentum_W_h = np.full([num_input,num_hidden], np.power(10.0,-5))\n",
        "        momentum_b_h = np.full(num_hidden, np.power(10.0,-5))\n",
        "        momentum_W_o = np.full([num_hidden,num_class], np.power(10.0,-5))\n",
        "        momentum_b_o = np.full(num_class, np.power(10.0,-5))\n",
        "\n",
        "        for iteration in range(self.epochs):\n",
        "            output = self.forwardPass(trainData)\n",
        "            change_hidden_parameters, change_output_parameters = self.backwardPass(newtrain)\n",
        "\n",
        "            for key, value in change_hidden_parameters.items():\n",
        "                if (key == 'W_h'):\n",
        "                    momentum_W_h = (gamma * momentum_W_h) + (self.alpha * value)\n",
        "                    self.hidden_parameters[key] -= momentum_W_h\n",
        "                elif (key == 'b_h'):\n",
        "                    momentum_b_h = (gamma * momentum_b_h) + (self.alpha * value)\n",
        "                    self.hidden_parameters[key] -= momentum_b_h\n",
        "\n",
        "            for key, value in change_output_parameters.items():\n",
        "                if (key == 'W_o'):\n",
        "                    momentum_W_o = (gamma * momentum_W_o) + (self.alpha * value)\n",
        "                    self.output_parameters[key] -= momentum_W_o\n",
        "                elif (key == 'b_o'):\n",
        "                    momentum_b_o = (gamma * momentum_b_o) + (self.alpha * value)\n",
        "                    self.output_parameters[key] -= momentum_b_o\n",
        "\n",
        "            train_loss, train_accuracy = self.loss_accuracy(trainData, newtrain)\n",
        "            valid_loss, valid_accuracy = self.loss_accuracy(validData, newvalid)\n",
        "            train_losses[iteration] = train_loss\n",
        "            train_accuracies[iteration] = train_accuracy\n",
        "            valid_losses[iteration] = valid_loss\n",
        "            valid_accuracies[iteration] = valid_accuracy\n",
        "\n",
        "            if (iteration%10 == 0):\n",
        "                print((\"Epoch {}: Train loss: {}, Train accuracy: {} |\"+\"Validation loss: {}, Validation accuracy: {}\").format(\n",
        "                    iteration + 1,\n",
        "                    train_losses[iteration],\n",
        "                    train_accuracies[iteration],\n",
        "                    valid_losses[iteration],\n",
        "                    valid_accuracies[iteration])\n",
        "                )\n",
        "            \n",
        "        print('Training complete')\n",
        "\n",
        "        plt.title(\"Train vs Validation Error\")\n",
        "        plt.plot(range(1,self.epochs+1), train_accuracies, label=\"Train\")\n",
        "        plt.plot(range(1,self.epochs+1), valid_accuracies, label=\"Validation\")\n",
        "        plt.xlabel(\"Epoch\")\n",
        "        plt.ylabel(\"Accuracy\")\n",
        "        plt.legend(loc='best')\n",
        "        plt.show()\n",
        "        plt.title(\"Train vs Validation Loss\")\n",
        "        plt.plot(range(1,self.epochs+1), train_losses, label=\"Train\")\n",
        "        plt.plot(range(1,self.epochs+1), valid_losses, label=\"Validation\")\n",
        "        plt.xlabel(\"Epoch\")\n",
        "        plt.ylabel(\"Loss\")\n",
        "        plt.legend(loc='best')\n",
        "        plt.show()\n",
        "        test_loss, test_accuracy = self.loss_accuracy(testData, newtest)\n",
        "        print(\"Test Loss: \", test_loss)\n",
        "        print(\"Test Accuracy: \", test_accuracy)\n"
      ],
      "execution_count": null,
      "outputs": []
    },
    {
      "cell_type": "code",
      "metadata": {
        "id": "1NZmcxiImjmq"
      },
      "source": [
        "trainData, validData, testData, trainTarget, validTarget, testTarget = loadData()"
      ],
      "execution_count": null,
      "outputs": []
    },
    {
      "cell_type": "code",
      "metadata": {
        "id": "brwiUBKCvstK"
      },
      "source": [
        "trainData = flatten(trainData, 10000)\n",
        "validData = flatten(validData, 6000)\n",
        "testData = flatten(testData, 2724)"
      ],
      "execution_count": null,
      "outputs": []
    },
    {
      "cell_type": "code",
      "metadata": {
        "id": "OuZItG66v0MA"
      },
      "source": [
        "newtrain, newvalid, newtest = convertOneHot(trainTarget, validTarget, testTarget)"
      ],
      "execution_count": null,
      "outputs": []
    },
    {
      "cell_type": "code",
      "metadata": {
        "colab": {
          "base_uri": "https://localhost:8080/",
          "height": 959
        },
        "id": "NrTZ05iWv-FK",
        "outputId": "f2e28d53-ec00-4af1-ad71-18bf0353381a"
      },
      "source": [
        "nn = NN(sizes=[784, 1000, 10])\n",
        "nn.train(trainData, newtrain, validData, newvalid, testData, newtest, 0.9)"
      ],
      "execution_count": null,
      "outputs": [
        {
          "output_type": "stream",
          "text": [
            "Epoch 1: Train loss: 2.4074487051106304, Train accuracy: 0.106 |Validation loss: 2.4326913738095435, Validation accuracy: 0.09283333333333334\n",
            "Epoch 11: Train loss: 2.312528379697044, Train accuracy: 0.1225 |Validation loss: 2.3681855879069307, Validation accuracy: 0.09333333333333334\n",
            "Epoch 21: Train loss: 2.2581313158008385, Train accuracy: 0.1563 |Validation loss: 2.3591938865310107, Validation accuracy: 0.09266666666666666\n",
            "Epoch 31: Train loss: 2.2225919759990136, Train accuracy: 0.1834 |Validation loss: 2.361584966414392, Validation accuracy: 0.09483333333333334\n",
            "Epoch 41: Train loss: 2.1901069613123485, Train accuracy: 0.2063 |Validation loss: 2.36310903574323, Validation accuracy: 0.09883333333333333\n",
            "Epoch 51: Train loss: 2.1616313835967325, Train accuracy: 0.2255 |Validation loss: 2.3719727460103512, Validation accuracy: 0.0945\n",
            "Epoch 61: Train loss: 2.1382433138963304, Train accuracy: 0.2405 |Validation loss: 2.382023242613742, Validation accuracy: 0.0955\n",
            "Epoch 71: Train loss: 2.11626477669983, Train accuracy: 0.2515 |Validation loss: 2.3928950780747154, Validation accuracy: 0.09733333333333333\n",
            "Epoch 81: Train loss: 2.095079634473716, Train accuracy: 0.2601 |Validation loss: 2.4053654617085534, Validation accuracy: 0.09716666666666667\n",
            "Epoch 91: Train loss: 2.0743548269616894, Train accuracy: 0.2714 |Validation loss: 2.417099129051425, Validation accuracy: 0.097\n",
            "Epoch 101: Train loss: 2.0538073295067014, Train accuracy: 0.2825 |Validation loss: 2.4303824392010536, Validation accuracy: 0.09683333333333333\n",
            "Epoch 111: Train loss: 2.033261614180994, Train accuracy: 0.2946 |Validation loss: 2.4437353607512997, Validation accuracy: 0.097\n",
            "Epoch 121: Train loss: 2.0126021451619867, Train accuracy: 0.3037 |Validation loss: 2.4581845466821814, Validation accuracy: 0.09916666666666667\n",
            "Epoch 131: Train loss: 1.9917074043093999, Train accuracy: 0.3122 |Validation loss: 2.47323735024822, Validation accuracy: 0.09766666666666667\n",
            "Epoch 141: Train loss: 1.9704994595354732, Train accuracy: 0.322 |Validation loss: 2.4890591064697127, Validation accuracy: 0.098\n",
            "Epoch 151: Train loss: 1.9489497192779461, Train accuracy: 0.3305 |Validation loss: 2.5056970701574044, Validation accuracy: 0.09683333333333333\n",
            "Epoch 161: Train loss: 1.9270171917212173, Train accuracy: 0.3383 |Validation loss: 2.523053325943219, Validation accuracy: 0.09666666666666666\n",
            "Epoch 171: Train loss: 1.9046608584685811, Train accuracy: 0.348 |Validation loss: 2.5411928161954056, Validation accuracy: 0.098\n",
            "Epoch 181: Train loss: 1.881856332153548, Train accuracy: 0.3577 |Validation loss: 2.5602186245404326, Validation accuracy: 0.0975\n",
            "Epoch 191: Train loss: 1.858606801757646, Train accuracy: 0.3682 |Validation loss: 2.580128177980216, Validation accuracy: 0.09766666666666667\n",
            "Training complete\n"
          ],
          "name": "stdout"
        },
        {
          "output_type": "display_data",
          "data": {
            "image/png": "[encoded data removed]",
            "text/plain": [
              "<Figure size 432x288 with 1 Axes>"
            ]
          },
          "metadata": {
            "tags": [],
            "needs_background": "light"
          }
        },
        {
          "output_type": "display_data",
          "data": {
            "image/png": "[encoded data removed]",
            "text/plain": [
              "<Figure size 432x288 with 1 Axes>"
            ]
          },
          "metadata": {
            "tags": [],
            "needs_background": "light"
          }
        },
        {
          "output_type": "stream",
          "text": [
            "Test Loss:  2.6273302450967027\n",
            "Test Accuracy:  0.09618208516886931\n"
          ],
          "name": "stdout"
        }
      ]
    },
    {
      "cell_type": "code",
      "metadata": {
        "id": "ztrLlzGN3kEJ"
      },
      "source": [
        ""
      ],
      "execution_count": null,
      "outputs": []
    }
  ]
}